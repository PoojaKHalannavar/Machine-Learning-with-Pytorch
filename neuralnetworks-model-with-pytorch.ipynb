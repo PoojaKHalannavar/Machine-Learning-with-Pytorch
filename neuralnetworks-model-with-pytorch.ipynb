{
 "cells": [
  {
   "cell_type": "markdown",
   "id": "6b77d5a4-1a97-4e6f-99f4-e162c680a7b2",
   "metadata": {},
   "source": [
    "# **Machine Learning with PyTorch**\n",
    "\n",
    "PyTorch is an open source framework for AI research and commercial production in machine learning. It is used to build, train, and optimize deep learning neural networks for applications such as image recognition, natural language processing, and speech recognition. It provides computation support for CPU, GPU, parallel and distributed training on multiple GPUs and multiple nodes. PyTorch is also flexible and easily extensible, with specific libraries and tools available for many different domains. All of the above have made PyTorch a leading framework in machine learning.\n",
    "\n",
    "This lab shows you how easy it is to get started with PyTorch and use it to build, train and evaluate a neural network.\n"
   ]
  },
  {
   "cell_type": "markdown",
   "id": "4f4365c4-4afe-4633-ad5b-5b7ce87fc32c",
   "metadata": {
    "tags": []
   },
   "source": [
    "# Objectives\n",
    "\n",
    "After completing this lab you will be able to:\n",
    "\n",
    " - Install necessary PyTorch libraries;\n",
    " - Use PyTorch to build, train and evaluate neural networks.\n",
    " - Save the trained model parameters and use them later for inferencing."
   ]
  },
  {
   "cell_type": "markdown",
   "id": "22b2dd1f-1dbd-4341-b9b8-fd26dd684c22",
   "metadata": {
    "tags": []
   },
   "source": [
    "### Installing Required Libraries\n",
    "\n",
    "The following required libraries are pre-installed in the Skills Network Labs environment. However, if you run this notebook commands in a different Jupyter environment (e.g. Watson Studio or Ananconda), you will need to install these libraries by removing the `#` sign before `!pip` in the code cell below.\n"
   ]
  },
  {
   "cell_type": "code",
   "execution_count": 2,
   "id": "618d44cc-7690-45cc-b1c7-d2ee75d22296",
   "metadata": {
    "tags": []
   },
   "outputs": [],
   "source": [
    "# All Libraries required for this lab are listed below. The libraries pre-installed on Skills Network Labs are commented.\n",
    "# !pip install torch torchvision"
   ]
  },
  {
   "cell_type": "markdown",
   "id": "30ec6b77-9f16-4e9d-a177-aea146af93d8",
   "metadata": {},
   "source": [
    "### Importing Required Libraries\n"
   ]
  },
  {
   "cell_type": "code",
   "execution_count": 14,
   "id": "90d16963-e5fb-4214-a159-98a261139bf1",
   "metadata": {
    "tags": []
   },
   "outputs": [],
   "source": [
    "import torch\n",
    "from torch import nn\n",
    "from torch.utils.data import DataLoader\n",
    "from torchvision import datasets\n",
    "from torchvision.transforms import ToTensor"
   ]
  },
  {
   "cell_type": "markdown",
   "id": "69bd8571-b9df-4ffb-a345-696de20730a7",
   "metadata": {},
   "source": [
    "# Download Dataset and Create Data Loader\n",
    "\n",
    "The images are 28x28 pixel images of digits 0 through 9.\n"
   ]
  },
  {
   "cell_type": "code",
   "execution_count": 15,
   "id": "22d1fe4e-d713-40dd-81f2-621998c657a2",
   "metadata": {
    "tags": []
   },
   "outputs": [
    {
     "name": "stdout",
     "output_type": "stream",
     "text": [
      "Training data size: 60032\n",
      "Test data size: 10048\n",
      "Shape of X [N, C, H, W]: torch.Size([64, 1, 28, 28])\n",
      "Shape of y: torch.Size([64]) torch.int64\n"
     ]
    }
   ],
   "source": [
    "# Download training data from MNIST datasets.\n",
    "training_data = datasets.MNIST(\n",
    "    root=\"data\",\n",
    "    train=True,\n",
    "    download=True,\n",
    "    transform=ToTensor(),\n",
    ")\n",
    "\n",
    "# Download test data from open datasets.\n",
    "test_data = datasets.MNIST(\n",
    "    root=\"data\",\n",
    "    train=False,\n",
    "    download=True,\n",
    "    transform=ToTensor(),\n",
    ")\n",
    "\n",
    "batch_size = 64\n",
    "\n",
    "# Create data loaders to iterate over data\n",
    "train_dataloader = DataLoader(training_data, batch_size=batch_size)\n",
    "test_dataloader = DataLoader(test_data, batch_size=batch_size)\n",
    "\n",
    "print(\"Training data size:\", len(train_dataloader) * batch_size)\n",
    "print(\"Test data size:\", len(test_dataloader) * batch_size)\n",
    "\n",
    "for X, y in test_dataloader:\n",
    "    print(f\"Shape of X [N, C, H, W]: {X.shape}\")\n",
    "    print(f\"Shape of y: {y.shape} {y.dtype}\")\n",
    "    break"
   ]
  },
  {
   "cell_type": "markdown",
   "id": "c8f0d42b-3f8d-4535-b679-6510207fa1ea",
   "metadata": {},
   "source": [
    "# Define Model\n",
    "\n",
    "We first determine the best device for performing training with cpu as the default device.\n",
    "\n",
    "We then define the AI model as a neural network with 3 layers: an input layer, a hidden layer, and an output layer. Between the layers, we use a ReLU activation function.\n",
    "\n",
    "Since the input images are 1x28x28 tensors, we need to flatten the input tensors into a 784 element tensor using the Flatten module before passing the input into our neural network."
   ]
  },
  {
   "cell_type": "code",
   "execution_count": 16,
   "id": "f5a19990-0e06-4ab8-ac1d-bcf786823b59",
   "metadata": {
    "tags": []
   },
   "outputs": [
    {
     "name": "stdout",
     "output_type": "stream",
     "text": [
      "Using cpu device\n",
      "NeuralNetwork(\n",
      "  (flatten): Flatten(start_dim=1, end_dim=-1)\n",
      "  (linear_relu_stack): Sequential(\n",
      "    (0): Linear(in_features=784, out_features=512, bias=True)\n",
      "    (1): ReLU()\n",
      "    (2): Linear(in_features=512, out_features=512, bias=True)\n",
      "    (3): ReLU()\n",
      "    (4): Linear(in_features=512, out_features=10, bias=True)\n",
      "  )\n",
      ")\n"
     ]
    }
   ],
   "source": [
    "# Get device for training.\n",
    "device = torch.device(\n",
    "    \"cuda\" if torch.cuda.is_available()\n",
    "    else \"mps\" if torch.backends.mps.is_available() # Apple Silicon GPU\n",
    "    else \"cpu\"\n",
    ")\n",
    "print(f\"Using {device} device\")\n",
    "\n",
    "# Define model\n",
    "class NeuralNetwork(nn.Module):\n",
    "    def __init__(self, input_size, hidden_size, num_classes):\n",
    "        super().__init__()\n",
    "        self.flatten = nn.Flatten()\n",
    "        self.linear_relu_stack = nn.Sequential(\n",
    "            nn.Linear(input_size, hidden_size),\n",
    "            nn.ReLU(),\n",
    "            nn.Linear(hidden_size, hidden_size),\n",
    "            nn.ReLU(),\n",
    "            nn.Linear(hidden_size, num_classes)\n",
    "        )\n",
    "\n",
    "    def forward(self, image_tensor):\n",
    "        image_tensor = self.flatten(image_tensor)\n",
    "        logits = self.linear_relu_stack(image_tensor)\n",
    "        return logits\n",
    "\n",
    "input_size = 28*28\n",
    "hidden_size = 512\n",
    "num_classes = 10\n",
    "\n",
    "model = NeuralNetwork(input_size, hidden_size, num_classes).to(device)\n",
    "print(model)"
   ]
  },
  {
   "cell_type": "markdown",
   "id": "a3158f71-9854-49e5-81c8-3318f7c05e24",
   "metadata": {},
   "source": [
    "# Training loop"
   ]
  },
  {
   "cell_type": "code",
   "execution_count": 17,
   "id": "22f837c0-a0a4-4b55-907b-6d9f6f7e83c1",
   "metadata": {
    "tags": []
   },
   "outputs": [],
   "source": [
    "# Define our learning rate, loss function and optimizer\n",
    "learning_rate = 1e-3 # 0.001\n",
    "loss_fn = nn.CrossEntropyLoss()\n",
    "optimizer = torch.optim.Adam(model.parameters(), lr=learning_rate)\n",
    "\n",
    "# Let's define our training function \n",
    "def train(dataloader, model, loss_fn, optimizer):\n",
    "    size = len(dataloader.dataset)\n",
    "    model.train()\n",
    "\n",
    "    for batch_num, (X, y) in enumerate(dataloader):\n",
    "        X, y = X.to(device), y.to(device)\n",
    "\n",
    "        # Forward pass to compute prediction\n",
    "        pred = model(X)\n",
    "        # Compute prediction error using loss function\n",
    "        loss = loss_fn(pred, y)\n",
    "\n",
    "        # Backward pass\n",
    "        optimizer.zero_grad() # zero any previous gradient calculations\n",
    "        loss.backward() # calculate gradient\n",
    "        optimizer.step() # update model parameters\n",
    "        \n",
    "        if batch_num > 0 and batch_num % 100 == 0:\n",
    "            loss, current = loss.item(), batch_num * len(X)\n",
    "            print(f\"loss: {loss:>7f}  [{current:>5d}/{size:>5d}]\")"
   ]
  },
  {
   "cell_type": "markdown",
   "id": "4a68b3e9-92f4-47a8-9097-019206edfa9c",
   "metadata": {},
   "source": [
    "# Test Loop\n",
    "\n",
    "The test methods evaluates the model's predictive performance using the test_dataloader. During testing, we don't require gradient computation, so we set the model in evaluate mode."
   ]
  },
  {
   "cell_type": "code",
   "execution_count": 18,
   "id": "aa72c3d3-30da-4495-96e3-18511bfffd63",
   "metadata": {
    "tags": []
   },
   "outputs": [],
   "source": [
    "# Our test function\n",
    "def test(dataloader, model, loss_fn):\n",
    "    size = len(dataloader.dataset)\n",
    "    num_batches = len(dataloader)\n",
    "    model.eval()\n",
    "    test_loss, correct = 0, 0\n",
    "    for X, y in dataloader:\n",
    "        X, y = X.to(device), y.to(device)\n",
    "        pred = model(X)\n",
    "        test_loss += loss_fn(pred, y).item()\n",
    "        correct += (pred.argmax(1) == y).type(torch.float).sum().item()\n",
    "    test_loss /= num_batches\n",
    "    correct /= size\n",
    "    print(f\"Test Error: \\n Accuracy: {(100*correct):>0.1f}%, Avg loss: {test_loss:>8f} \\n\")"
   ]
  },
  {
   "cell_type": "markdown",
   "id": "670df6b4-6734-4106-9f98-dba9b787d80c",
   "metadata": {},
   "source": [
    "# Train the Model\n",
    "\n",
    "Now that we have defined methods to train our model and test the trained model's predictive behavior, lets train the model for 5 epochs over the dataset."
   ]
  },
  {
   "cell_type": "code",
   "execution_count": 19,
   "id": "cb992cd8-8311-4827-b08a-d8a2a5738c56",
   "metadata": {
    "tags": []
   },
   "outputs": [
    {
     "name": "stdout",
     "output_type": "stream",
     "text": [
      "Epoch 1\n",
      "-------------------------------\n",
      "loss: 0.287140  [ 6400/60000]\n",
      "loss: 0.207831  [12800/60000]\n",
      "loss: 0.267115  [19200/60000]\n",
      "loss: 0.131060  [25600/60000]\n",
      "loss: 0.306589  [32000/60000]\n",
      "loss: 0.133767  [38400/60000]\n",
      "loss: 0.254461  [44800/60000]\n",
      "loss: 0.225999  [51200/60000]\n",
      "loss: 0.177978  [57600/60000]\n",
      "Test Error: \n",
      " Accuracy: 96.0%, Avg loss: 0.130468 \n",
      "\n",
      "Epoch 2\n",
      "-------------------------------\n",
      "loss: 0.087250  [ 6400/60000]\n",
      "loss: 0.087333  [12800/60000]\n",
      "loss: 0.134419  [19200/60000]\n",
      "loss: 0.037877  [25600/60000]\n",
      "loss: 0.139846  [32000/60000]\n",
      "loss: 0.066882  [38400/60000]\n",
      "loss: 0.148412  [44800/60000]\n",
      "loss: 0.117106  [51200/60000]\n",
      "loss: 0.120266  [57600/60000]\n",
      "Test Error: \n",
      " Accuracy: 97.1%, Avg loss: 0.092219 \n",
      "\n",
      "Epoch 3\n",
      "-------------------------------\n",
      "loss: 0.087777  [ 6400/60000]\n",
      "loss: 0.054144  [12800/60000]\n",
      "loss: 0.137608  [19200/60000]\n",
      "loss: 0.099790  [25600/60000]\n",
      "loss: 0.069709  [32000/60000]\n",
      "loss: 0.037692  [38400/60000]\n",
      "loss: 0.064657  [44800/60000]\n",
      "loss: 0.075775  [51200/60000]\n",
      "loss: 0.040140  [57600/60000]\n",
      "Test Error: \n",
      " Accuracy: 97.2%, Avg loss: 0.092373 \n",
      "\n",
      "Epoch 4\n",
      "-------------------------------\n",
      "loss: 0.022356  [ 6400/60000]\n",
      "loss: 0.022540  [12800/60000]\n",
      "loss: 0.189624  [19200/60000]\n",
      "loss: 0.087635  [25600/60000]\n",
      "loss: 0.044476  [32000/60000]\n",
      "loss: 0.051762  [38400/60000]\n",
      "loss: 0.038673  [44800/60000]\n",
      "loss: 0.040874  [51200/60000]\n",
      "loss: 0.027712  [57600/60000]\n",
      "Test Error: \n",
      " Accuracy: 97.6%, Avg loss: 0.091971 \n",
      "\n",
      "Epoch 5\n",
      "-------------------------------\n",
      "loss: 0.051647  [ 6400/60000]\n",
      "loss: 0.081974  [12800/60000]\n",
      "loss: 0.007124  [19200/60000]\n",
      "loss: 0.026765  [25600/60000]\n",
      "loss: 0.023391  [32000/60000]\n",
      "loss: 0.059478  [38400/60000]\n",
      "loss: 0.017102  [44800/60000]\n",
      "loss: 0.058061  [51200/60000]\n",
      "loss: 0.031296  [57600/60000]\n",
      "Test Error: \n",
      " Accuracy: 97.7%, Avg loss: 0.089059 \n",
      "\n",
      "Done!\n"
     ]
    }
   ],
   "source": [
    "# Let's run training\n",
    "epochs = 5\n",
    "for t in range(epochs):\n",
    "    print(f\"Epoch {t+1}\\n-------------------------------\")\n",
    "    train(train_dataloader, model, loss_fn, optimizer)\n",
    "    test(test_dataloader, model, loss_fn)\n",
    "print(\"Done!\")"
   ]
  },
  {
   "cell_type": "markdown",
   "id": "9d0494d3-c14e-4bb4-9a0b-62e2543428a8",
   "metadata": {},
   "source": [
    "# Save the model and make predictions\n",
    "\n",
    "Once we have a trained model, we can save the model parameters for future use in inferences. Here we save the state_dict of the model which contains the trained parameters. We then create a new instance of the model and load the previously saved parameters into the new instance of the model. Finally we can inference using the new instance of the model.\n"
   ]
  },
  {
   "cell_type": "code",
   "execution_count": 20,
   "id": "a4e6ba64-41d5-4b4a-ad64-96d27a57bbfa",
   "metadata": {},
   "outputs": [
    {
     "name": "stdout",
     "output_type": "stream",
     "text": [
      "Saved PyTorch Model State to ml_with_pytorch_model.pth\n",
      "Predicted: \"7\", Actual: \"7\"\n",
      "Predicted: \"2\", Actual: \"2\"\n",
      "Predicted: \"1\", Actual: \"1\"\n",
      "Predicted: \"0\", Actual: \"0\"\n",
      "Predicted: \"4\", Actual: \"4\"\n",
      "Predicted: \"1\", Actual: \"1\"\n",
      "Predicted: \"4\", Actual: \"4\"\n",
      "Predicted: \"9\", Actual: \"9\"\n",
      "Predicted: \"5\", Actual: \"5\"\n",
      "Predicted: \"9\", Actual: \"9\"\n"
     ]
    }
   ],
   "source": [
    "# Save our model parameters\n",
    "torch.save(model.state_dict(), \"ml_with_pytorch_model.pth\")\n",
    "print(\"Saved PyTorch Model State to ml_with_pytorch_model.pth\")\n",
    "\n",
    "# Load the saved model parameters into a new instance of the model\n",
    "model = NeuralNetwork(input_size, hidden_size, num_classes).to(device)\n",
    "model.load_state_dict(torch.load(\"ml_with_pytorch_model.pth\"))\n",
    "\n",
    "# Inference using the new model instance\n",
    "model.eval()\n",
    "for i in range(10):\n",
    "    x, y = test_data[i][0], test_data[i][1]\n",
    "\n",
    "    x = x.to(device)\n",
    "    pred = model(x)\n",
    "    predicted, actual = pred[0].argmax(0).item(), y\n",
    "    print(f'Predicted: \"{predicted}\", Actual: \"{actual}\"')"
   ]
  },
  {
   "cell_type": "markdown",
   "id": "6f1c3946-c643-4536-9f6f-a0dd96e6bceb",
   "metadata": {},
   "source": [
    "# Congratulations! You have completed the lab\n"
   ]
  }
 ],
 "metadata": {
  "kernelspec": {
   "display_name": "Python",
   "language": "python",
   "name": "conda-env-python-py"
  },
  "language_info": {
   "codemirror_mode": {
    "name": "ipython",
    "version": 3
   },
   "file_extension": ".py",
   "mimetype": "text/x-python",
   "name": "python",
   "nbconvert_exporter": "python",
   "pygments_lexer": "ipython3",
   "version": "3.7.12"
  }
 },
 "nbformat": 4,
 "nbformat_minor": 5
}
